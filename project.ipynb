{
 "cells": [
  {
   "cell_type": "code",
   "execution_count": 1,
   "id": "f2344e30",
   "metadata": {},
   "outputs": [],
   "source": [
    "import tensorflow as tf\n",
    "import numpy as np\n",
    "import matplotlib.pyplot as plt"
   ]
  },
  {
   "cell_type": "code",
   "execution_count": 107,
   "id": "857c1e65",
   "metadata": {},
   "outputs": [
    {
     "data": {
      "text/plain": [
       "'2.9.1'"
      ]
     },
     "execution_count": 107,
     "metadata": {},
     "output_type": "execute_result"
    }
   ],
   "source": [
    "tf.__version__"
   ]
  },
  {
   "cell_type": "markdown",
   "id": "6a9383d9",
   "metadata": {},
   "source": [
    "# Data load and preprocessing"
   ]
  },
  {
   "cell_type": "code",
   "execution_count": 2,
   "id": "2c908cc1",
   "metadata": {},
   "outputs": [],
   "source": [
    "trining_set_path=\"SportsDataset//train\"\n",
    "validation_set_path=\"SportsDataset/valid\"\n"
   ]
  },
  {
   "cell_type": "code",
   "execution_count": 9,
   "id": "6f3eab03",
   "metadata": {},
   "outputs": [
    {
     "name": "stdout",
     "output_type": "stream",
     "text": [
      "Found 13572 images belonging to 100 classes.\n",
      "Found 500 images belonging to 100 classes.\n"
     ]
    }
   ],
   "source": [
    "training_set_DataGenerator=tf.keras.preprocessing.image.ImageDataGenerator(\n",
    "                                    rotation_range = 40, \n",
    "                                    width_shift_range = 0.2,\n",
    "                                    height_shift_range = 0.2,\n",
    "                                    horizontal_flip = True, \n",
    "                                    vertical_flip =True\n",
    "\n",
    "                            ).flow_from_directory(\n",
    "                        trining_set_path,\n",
    "                        target_size=(200,200),\n",
    "                        batch_size=32,\n",
    "                        class_mode=\"categorical\"\n",
    "                        )\n",
    "validation_set_DataGenerator=tf.keras.preprocessing.image.ImageDataGenerator().flow_from_directory(\n",
    "                                                                                    validation_set_path,\n",
    "                                                                                    target_size=(200,200),\n",
    "                                                                                    batch_size=32,\n",
    "                                                                                    class_mode=\"categorical\"\n",
    "\n",
    "                                                                                    )"
   ]
  },
  {
   "cell_type": "markdown",
   "id": "0cba7597",
   "metadata": {},
   "source": [
    "# Transfer learning with keras"
   ]
  },
  {
   "cell_type": "code",
   "execution_count": 10,
   "id": "0df16e04",
   "metadata": {},
   "outputs": [
    {
     "name": "stdout",
     "output_type": "stream",
     "text": [
      "Downloading data from https://storage.googleapis.com/keras-applications/efficientnetb3_notop.h5\n",
      "43941136/43941136 [==============================] - 189s 4us/step\n"
     ]
    }
   ],
   "source": [
    "base_model=tf.keras.applications.efficientnet.EfficientNetB3(include_top=False, weights=\"imagenet\",input_shape=(200,200,3), pooling='max')"
   ]
  },
  {
   "cell_type": "code",
   "execution_count": 11,
   "id": "190f38a9",
   "metadata": {},
   "outputs": [],
   "source": [
    "base_model.trainable=False"
   ]
  },
  {
   "cell_type": "code",
   "execution_count": 15,
   "id": "94dffead",
   "metadata": {},
   "outputs": [],
   "source": [
    "model_efn=tf.keras.models.Sequential()\n",
    "model_efn.add(base_model)\n",
    "model_efn.add(tf.keras.layers.Dense(128))\n",
    "model_efn.add(tf.keras.layers.Dense(100,activation='softmax'))\n"
   ]
  },
  {
   "cell_type": "code",
   "execution_count": 16,
   "id": "2cbc8912",
   "metadata": {},
   "outputs": [
    {
     "name": "stdout",
     "output_type": "stream",
     "text": [
      "Model: \"sequential_3\"\n",
      "_________________________________________________________________\n",
      " Layer (type)                Output Shape              Param #   \n",
      "=================================================================\n",
      " efficientnetb3 (Functional)  (None, 1536)             10783535  \n",
      "                                                                 \n",
      " dense (Dense)               (None, 128)               196736    \n",
      "                                                                 \n",
      " dense_1 (Dense)             (None, 100)               12900     \n",
      "                                                                 \n",
      "=================================================================\n",
      "Total params: 10,993,171\n",
      "Trainable params: 209,636\n",
      "Non-trainable params: 10,783,535\n",
      "_________________________________________________________________\n"
     ]
    }
   ],
   "source": [
    "model_efn.summary()"
   ]
  },
  {
   "cell_type": "code",
   "execution_count": 17,
   "id": "d75ef4f7",
   "metadata": {},
   "outputs": [],
   "source": [
    "callback = tf.keras.callbacks.EarlyStopping(monitor='val_loss',patience=2)"
   ]
  },
  {
   "cell_type": "code",
   "execution_count": 18,
   "id": "4aabcb31",
   "metadata": {},
   "outputs": [],
   "source": [
    "model_efn.compile(loss='categorical_crossentropy',optimizer='adam',metrics=['accuracy'])"
   ]
  },
  {
   "cell_type": "code",
   "execution_count": 19,
   "id": "f79c0b6b",
   "metadata": {
    "scrolled": true
   },
   "outputs": [
    {
     "name": "stdout",
     "output_type": "stream",
     "text": [
      "Epoch 1/10\n",
      "425/425 [==============================] - 685s 2s/step - loss: 4.3227 - accuracy: 0.3186 - val_loss: 1.6739 - val_accuracy: 0.6280\n",
      "Epoch 2/10\n",
      "425/425 [==============================] - 632s 1s/step - loss: 2.3260 - accuracy: 0.5287 - val_loss: 1.0718 - val_accuracy: 0.7380\n",
      "Epoch 3/10\n",
      "425/425 [==============================] - 607s 1s/step - loss: 1.8833 - accuracy: 0.5916 - val_loss: 0.9771 - val_accuracy: 0.7440\n",
      "Epoch 4/10\n",
      "425/425 [==============================] - 591s 1s/step - loss: 1.6223 - accuracy: 0.6309 - val_loss: 0.8660 - val_accuracy: 0.7700\n",
      "Epoch 5/10\n",
      "425/425 [==============================] - 586s 1s/step - loss: 1.4913 - accuracy: 0.6519 - val_loss: 0.8919 - val_accuracy: 0.7740\n",
      "Epoch 6/10\n",
      "425/425 [==============================] - 586s 1s/step - loss: 1.3701 - accuracy: 0.6658 - val_loss: 0.7524 - val_accuracy: 0.7960\n",
      "Epoch 7/10\n",
      "425/425 [==============================] - 593s 1s/step - loss: 1.2840 - accuracy: 0.6859 - val_loss: 0.7422 - val_accuracy: 0.7900\n",
      "Epoch 8/10\n",
      "425/425 [==============================] - 599s 1s/step - loss: 1.2684 - accuracy: 0.6793 - val_loss: 0.7031 - val_accuracy: 0.8160\n",
      "Epoch 9/10\n",
      "425/425 [==============================] - 601s 1s/step - loss: 1.2701 - accuracy: 0.6813 - val_loss: 0.7424 - val_accuracy: 0.7880\n",
      "Epoch 10/10\n",
      "425/425 [==============================] - 1353s 3s/step - loss: 1.1975 - accuracy: 0.6954 - val_loss: 0.6428 - val_accuracy: 0.8420\n"
     ]
    }
   ],
   "source": [
    "history_efn=model_efn.fit(training_set_DataGenerator,validation_data=validation_set_DataGenerator,epochs=10,callbacks=[callback],\n",
    "                    verbose=1)"
   ]
  },
  {
   "cell_type": "code",
   "execution_count": 20,
   "id": "2f4f6570",
   "metadata": {},
   "outputs": [],
   "source": [
    "model_efn.save(\"MYeffiNet.h5\")"
   ]
  },
  {
   "cell_type": "code",
   "execution_count": 30,
   "id": "095feff7",
   "metadata": {},
   "outputs": [],
   "source": [
    "labelList=list(training_set_DataGenerator.class_indices.keys())"
   ]
  },
  {
   "cell_type": "code",
   "execution_count": 31,
   "id": "f1045603",
   "metadata": {},
   "outputs": [
    {
     "data": {
      "text/plain": [
       "['air hockey',\n",
       " 'ampute football',\n",
       " 'archery',\n",
       " 'arm wrestling',\n",
       " 'axe throwing',\n",
       " 'balance beam',\n",
       " 'barell racing',\n",
       " 'baseball',\n",
       " 'basketball',\n",
       " 'baton twirling',\n",
       " 'bike polo',\n",
       " 'billiards',\n",
       " 'bmx',\n",
       " 'bobsled',\n",
       " 'bowling',\n",
       " 'boxing',\n",
       " 'bull riding',\n",
       " 'bungee jumping',\n",
       " 'canoe slamon',\n",
       " 'cheerleading',\n",
       " 'chuckwagon racing',\n",
       " 'cricket',\n",
       " 'croquet',\n",
       " 'curling',\n",
       " 'disc golf',\n",
       " 'fencing',\n",
       " 'field hockey',\n",
       " 'figure skating men',\n",
       " 'figure skating pairs',\n",
       " 'figure skating women',\n",
       " 'fly fishing',\n",
       " 'football',\n",
       " 'formula 1 racing',\n",
       " 'frisbee',\n",
       " 'gaga',\n",
       " 'giant slalom',\n",
       " 'golf',\n",
       " 'hammer throw',\n",
       " 'hang gliding',\n",
       " 'harness racing',\n",
       " 'high jump',\n",
       " 'hockey',\n",
       " 'horse jumping',\n",
       " 'horse racing',\n",
       " 'horseshoe pitching',\n",
       " 'hurdles',\n",
       " 'hydroplane racing',\n",
       " 'ice climbing',\n",
       " 'ice yachting',\n",
       " 'jai alai',\n",
       " 'javelin',\n",
       " 'jousting',\n",
       " 'judo',\n",
       " 'lacrosse',\n",
       " 'log rolling',\n",
       " 'luge',\n",
       " 'motorcycle racing',\n",
       " 'mushing',\n",
       " 'nascar racing',\n",
       " 'olympic wrestling',\n",
       " 'parallel bar',\n",
       " 'pole climbing',\n",
       " 'pole dancing',\n",
       " 'pole vault',\n",
       " 'polo',\n",
       " 'pommel horse',\n",
       " 'rings',\n",
       " 'rock climbing',\n",
       " 'roller derby',\n",
       " 'rollerblade racing',\n",
       " 'rowing',\n",
       " 'rugby',\n",
       " 'sailboat racing',\n",
       " 'shot put',\n",
       " 'shuffleboard',\n",
       " 'sidecar racing',\n",
       " 'ski jumping',\n",
       " 'sky surfing',\n",
       " 'skydiving',\n",
       " 'snow boarding',\n",
       " 'snowmobile racing',\n",
       " 'speed skating',\n",
       " 'steer wrestling',\n",
       " 'sumo wrestling',\n",
       " 'surfing',\n",
       " 'swimming',\n",
       " 'table tennis',\n",
       " 'tennis',\n",
       " 'track bicycle',\n",
       " 'trapeze',\n",
       " 'tug of war',\n",
       " 'ultimate',\n",
       " 'uneven bars',\n",
       " 'volleyball',\n",
       " 'water cycling',\n",
       " 'water polo',\n",
       " 'weightlifting',\n",
       " 'wheelchair basketball',\n",
       " 'wheelchair racing',\n",
       " 'wingsuit flying']"
      ]
     },
     "execution_count": 31,
     "metadata": {},
     "output_type": "execute_result"
    }
   ],
   "source": [
    "labelList"
   ]
  },
  {
   "cell_type": "code",
   "execution_count": 35,
   "id": "75ac3152",
   "metadata": {},
   "outputs": [
    {
     "name": "stdout",
     "output_type": "stream",
     "text": [
      "1/1 [==============================] - 0s 199ms/step\n",
      "table tennis\n"
     ]
    }
   ],
   "source": [
    "import numpy as np\n",
    "data_test=\"SportsDataset//test/archery//1.jpg\"\n",
    "test_image = tf.keras.preprocessing.image.load_img(desktop, target_size = (200,200))\n",
    "test_image = tf.keras.preprocessing.image.img_to_array(test_image)\n",
    "test_image = np.expand_dims(test_image, axis = 0)\n",
    "result = model_efn.predict(test_image)\n",
    "ind=list(result.flatten()).index(max(list(result.flatten())))\n",
    "print(labelList[ind])"
   ]
  }
 ],
 "metadata": {
  "kernelspec": {
   "display_name": "Python 3 (ipykernel)",
   "language": "python",
   "name": "python3"
  },
  "language_info": {
   "codemirror_mode": {
    "name": "ipython",
    "version": 3
   },
   "file_extension": ".py",
   "mimetype": "text/x-python",
   "name": "python",
   "nbconvert_exporter": "python",
   "pygments_lexer": "ipython3",
   "version": "3.9.7"
  }
 },
 "nbformat": 4,
 "nbformat_minor": 5
}
